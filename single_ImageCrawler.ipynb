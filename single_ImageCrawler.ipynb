{
 "cells": [
  {
   "cell_type": "code",
   "execution_count": 1,
   "metadata": {},
   "outputs": [
    {
     "name": "stdout",
     "output_type": "stream",
     "text": [
      "cat crawling start\n",
      "cat crawling complete\n"
     ]
    }
   ],
   "source": [
    "name = 'cat' #검색어\n",
    "many = 5 #가져올 사진 수\n",
    "path = 'C:\\\\Users\\\\BVer\\\\image_crawler\\\\' #해당 코드 파일 위치 \n",
    "\n",
    "print(name + ' crawling start')\n",
    "\n",
    "from selenium import webdriver\n",
    "from urllib.request import urlopen\n",
    "from bs4 import BeautifulSoup as bs\n",
    "from urllib.parse import quote_plus\n",
    "from selenium.webdriver.common.keys import Keys\n",
    "import urllib.request\n",
    "import time\n",
    "import os\n",
    "import shutil\n",
    "\n",
    "driver = webdriver.Chrome(path + 'chromedriver.exe') #반드시 크롬드라이버를 해당 코드 파일위치에 같이 둘 것\n",
    "driver.get(\"https://www.google.co.kr/imghp?hl=ko&ogbl\")\n",
    "elem = driver.find_element_by_name(\"q\")\n",
    "elem.send_keys(name) #검색할 단어\n",
    "elem.send_keys(Keys.RETURN)\n",
    " \n",
    "SCROLL_PAUSE_TIME = 1\n",
    " \n",
    "last_height = driver.execute_script(\"return document.body.scrollHeight\")\n",
    " \n",
    "while True:\n",
    "    driver.execute_script(\"window.scrollTo(0, document.body.scrollHeight);\")\n",
    " \n",
    "    time.sleep(SCROLL_PAUSE_TIME)\n",
    " \n",
    "    new_height = driver.execute_script(\"return document.body.scrollHeight\")\n",
    "    if new_height == last_height:\n",
    "        try:\n",
    "            driver.find_element_by_css_selector(\".mye4qd\").click()\n",
    "        except:\n",
    "            break\n",
    "    last_height = new_height\n",
    " \n",
    "images = driver.find_elements_by_css_selector(\".rg_i.Q4LuWd\")\n",
    "\n",
    "try:\n",
    "    os.makedirs(path + '\\\\' + name)\n",
    "except:\n",
    "    pass\n",
    "\n",
    "count = 1\n",
    "trycount = 0\n",
    "for image in images:\n",
    "    trycount += 1\n",
    "    try: \n",
    "        image.click()\n",
    "        time.sleep(2)\n",
    "        imgUrl = driver.find_element_by_xpath('/html/body/div[2]/c-wiz/div[3]/div[2]/div[3]/div/div/div[3]/div[2]/c-wiz/div/div[1]/div[1]/div/div[2]/a/img').get_attribute(\"src\")\n",
    "        urllib.request.urlretrieve(imgUrl, name + str(count) + \".jpg\")\n",
    "        from_ = '{0}\\{1}.jpg'.format(path, name + str(count))\n",
    "        to_ = '{0}\\{1}\\{2}.jpg'.format(path, name, name + str(count))\n",
    "        shutil.move(from_, to_)\n",
    "        count = count + 1\n",
    "        if(count > many):\n",
    "            break\n",
    "    except:\n",
    "        if(trycount > many*2):\n",
    "            print(name + ' crawling ERROR')\n",
    "            break\n",
    "        pass\n",
    "\n",
    "try: \n",
    "    driver.close()\n",
    "except:\n",
    "    pass\n",
    "finally:\n",
    "    print(name + ' crawling complete')"
   ]
  },
  {
   "cell_type": "code",
   "execution_count": null,
   "metadata": {},
   "outputs": [],
   "source": []
  }
 ],
 "metadata": {
  "kernelspec": {
   "display_name": "Python 3",
   "language": "python",
   "name": "python3"
  },
  "language_info": {
   "codemirror_mode": {
    "name": "ipython",
    "version": 3
   },
   "file_extension": ".py",
   "mimetype": "text/x-python",
   "name": "python",
   "nbconvert_exporter": "python",
   "pygments_lexer": "ipython3",
   "version": "3.8.5"
  }
 },
 "nbformat": 4,
 "nbformat_minor": 4
}
