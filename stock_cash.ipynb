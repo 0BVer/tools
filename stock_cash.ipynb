{
 "cells": [
  {
   "cell_type": "code",
   "execution_count": 1,
   "id": "cfc44127-155e-4bc6-80b4-00f670ebeab4",
   "metadata": {},
   "outputs": [],
   "source": [
    "# 단위 만원\n",
    "today_stock = 900\n",
    "today_cash = 6\n",
    "\n",
    "# 투자 자산과 현금자산의 비율\n",
    "per_right = 0.7\n",
    "per_right_gap = 0.05"
   ]
  },
  {
   "cell_type": "code",
   "execution_count": 2,
   "id": "7302c661-b40a-4317-ad29-7db5158fd5ea",
   "metadata": {},
   "outputs": [],
   "source": [
    "per_arange = [round(per_right - per_right_gap, 2), round(per_right + per_right_gap, 2)]"
   ]
  },
  {
   "cell_type": "code",
   "execution_count": 3,
   "id": "7049cfb3-4f01-49fa-a9b3-2aaa6dd92b9c",
   "metadata": {},
   "outputs": [
    {
     "data": {
      "text/plain": [
       "[0.65, 0.75]"
      ]
     },
     "execution_count": 3,
     "metadata": {},
     "output_type": "execute_result"
    }
   ],
   "source": [
    "per_arange"
   ]
  },
  {
   "cell_type": "code",
   "execution_count": 4,
   "id": "bee7561c-3a6b-4d08-9b96-78fdacf9c865",
   "metadata": {},
   "outputs": [
    {
     "name": "stdout",
     "output_type": "stream",
     "text": [
      "총 자산은 906 만원 입니다.\n",
      "주식의 비중이 높습니다.\n",
      "주식에서 265.79999999999995 만원을 현금화 해야 합니다.\n"
     ]
    }
   ],
   "source": [
    "today_total = today_stock + today_cash\n",
    "print(\"총 자산은 {} 만원 입니다.\".format(today_total))\n",
    "per_now = round(today_stock / today_total, 2)\n",
    "\n",
    "if per_now > per_arange[1]:\n",
    "    print('주식의 비중이 높습니다.')\n",
    "    print('주식에서 {} 만원을 현금화 해야 합니다.'.format(today_stock - round(today_total * per_right, 2)))\n",
    "elif per_arange[1] >= per_now and per_now > per_arange[0]:\n",
    "    print('주식의 비중이 적당합니다.')\n",
    "elif per_arange[0] >= per_now:\n",
    "    print('주식의 비중이 적당합니다.')\n",
    "    print('현금에서 {} 만원을 추가 투자 해야 합니다.'.format(round(today_total * per_right, 2) - today_stock))"
   ]
  },
  {
   "cell_type": "code",
   "execution_count": null,
   "id": "ea1afe25-9e73-473d-8451-3eed3306ada6",
   "metadata": {},
   "outputs": [],
   "source": []
  }
 ],
 "metadata": {
  "kernelspec": {
   "display_name": "Python 3",
   "language": "python",
   "name": "python3"
  },
  "language_info": {
   "codemirror_mode": {
    "name": "ipython",
    "version": 3
   },
   "file_extension": ".py",
   "mimetype": "text/x-python",
   "name": "python",
   "nbconvert_exporter": "python",
   "pygments_lexer": "ipython3",
   "version": "3.7.10"
  }
 },
 "nbformat": 4,
 "nbformat_minor": 5
}
