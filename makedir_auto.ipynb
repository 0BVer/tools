{
 "cells": [
  {
   "cell_type": "code",
   "execution_count": null,
   "metadata": {},
   "outputs": [],
   "source": [
    "import os"
   ]
  },
  {
   "cell_type": "code",
   "execution_count": null,
   "metadata": {},
   "outputs": [],
   "source": [
    "import shutil"
   ]
  },
  {
   "cell_type": "code",
   "execution_count": null,
   "metadata": {},
   "outputs": [],
   "source": [
    "folder_name = 'C:\\project\\what_dog\\dataset\\images'"
   ]
  },
  {
   "cell_type": "code",
   "execution_count": null,
   "metadata": {},
   "outputs": [],
   "source": [
    "breed_labels = ['affenpinscher',\n",
    "'afghan_hound',\n",
    "'african_hunting_dog',\n",
    "'airedale',\n",
    "'american_staffordshire_terrier',\n",
    "'appenzeller',\n",
    "'australian_terrier',\n",
    "'basenji',\n",
    "'basset',\n",
    "'beagle',\n",
    "'bedlington_terrier',\n",
    "'bernese_mountain_dog',\n",
    "'black-and-tan_coonhound',\n",
    "'blenheim_spaniel',\n",
    "'bloodhound',\n",
    "'bluetick',\n",
    "'border_collie',\n",
    "'border_terrier',\n",
    "'borzoi',\n",
    "'boston_bull',\n",
    "'bouvier_des_flandres',\n",
    "'boxer',\n",
    "'brabancon_griffon',\n",
    "'briard',\n",
    "'brittany_spaniel',\n",
    "'bull_mastiff',\n",
    "'cairn',\n",
    "'cardigan',\n",
    "'chesapeake_bay_retriever',\n",
    "'chihuahua',\n",
    "'chow',\n",
    "'clumber',\n",
    "'cocker_spaniel',\n",
    "'collie',\n",
    "'curly-coated_retriever',\n",
    "'dandie_dinmont',\n",
    "'dhole',\n",
    "'dingo',\n",
    "'doberman',\n",
    "'english_foxhound',\n",
    "'english_setter',\n",
    "'english_springer',\n",
    "'entlebucher',\n",
    "'eskimo_dog',\n",
    "'flat-coated_retriever',\n",
    "'french_bulldog',\n",
    "'german_shepherd',\n",
    "'german_short-haired_pointer',\n",
    "'giant_schnauzer',\n",
    "'golden_retriever',\n",
    "'gordon_setter',\n",
    "'great_dane',\n",
    "'great_pyrenees',\n",
    "'greater_swiss_mountain_dog',\n",
    "'groenendael',\n",
    "'ibizan_hound',\n",
    "'irish_setter',\n",
    "'irish_terrier',\n",
    "'irish_water_spaniel',\n",
    "'irish_wolfhound',\n",
    "'italian_greyhound',\n",
    "'japanese_spaniel',\n",
    "'keeshond',\n",
    "'kelpie',\n",
    "'kerry_blue_terrier',\n",
    "'komondor',\n",
    "'kuvasz',\n",
    "'labrador_retriever',\n",
    "'lakeland_terrier',\n",
    "'leonberg',\n",
    "'lhasa',\n",
    "'malamute',\n",
    "'malinois',\n",
    "'maltese_dog',\n",
    "'mexican_hairless',\n",
    "'miniature_pinscher',\n",
    "'miniature_poodle',\n",
    "'miniature_schnauzer',\n",
    "'newfoundland',\n",
    "'norfolk_terrier',\n",
    "'norwegian_elkhound',\n",
    "'norwich_terrier',\n",
    "'old_english_sheepdog',\n",
    "'otterhound',\n",
    "'papillon',\n",
    "'pekinese',\n",
    "'pembroke',\n",
    "'pomeranian',\n",
    "'pug',\n",
    "'redbone',\n",
    "'rhodesian_ridgeback',\n",
    "'rottweiler',\n",
    "'saint_bernard',\n",
    "'saluki',\n",
    "'samoyed',\n",
    "'schipperke',\n",
    "'scotch_terrier',\n",
    "'scottish_deerhound',\n",
    "'sealyham_terrier',\n",
    "'shetland_sheepdog',\n",
    "'shih-tzu',\n",
    "'siberian_husky',\n",
    "'silky_terrier',\n",
    "'soft-coated_wheaten_terrier',\n",
    "'staffordshire_bullterrier',\n",
    "'standard_poodle',\n",
    "'standard_schnauzer',\n",
    "'sussex_spaniel',\n",
    "'tibetan_mastiff',\n",
    "'tibetan_terrier',\n",
    "'toy_poodle',\n",
    "'toy_terrier',\n",
    "'vizsla',\n",
    "'walker_hound',\n",
    "'weimaraner',\n",
    "'welsh_springer_spaniel',\n",
    "'west_highland_white_terrier',\n",
    "'whippet',\n",
    "'wire-haired_fox_terrier',\n",
    "'yorkshire_terrier'\n",
    "]"
   ]
  },
  {
   "cell_type": "code",
   "execution_count": null,
   "metadata": {},
   "outputs": [],
   "source": [
    "for name in breed_labels: #강아지 종별 폴더 생성\n",
    "    os.makedirs(folder_name + '\\\\' + breed_labels[num])"
   ]
  },
  {
   "cell_type": "code",
   "execution_count": null,
   "metadata": {},
   "outputs": [],
   "source": [
    "#pip install pymysql"
   ]
  },
  {
   "cell_type": "code",
   "execution_count": null,
   "metadata": {},
   "outputs": [],
   "source": [
    "conn = pymysql.connect(host='localhost', user='root', password='', database='dogbreed')"
   ]
  },
  {
   "cell_type": "code",
   "execution_count": null,
   "metadata": {},
   "outputs": [],
   "source": [
    "cur = conn.cursor()"
   ]
  },
  {
   "cell_type": "code",
   "execution_count": null,
   "metadata": {},
   "outputs": [],
   "source": [
    "folder_name_before = 'C:\\project\\what_dog\\dataset\\\\train' #\\\\는 \\t 입력 막기위함"
   ]
  },
  {
   "cell_type": "code",
   "execution_count": null,
   "metadata": {},
   "outputs": [],
   "source": [
    "#for name in breed_labels: #강아지 종별로 sql에서 id 조회후 id명의 사진파일을 새로 만든 종별 폴더에 분류 아래 코드로 확인후 실행 바람\n",
    "    sql = \"select id from testset1 where breed='{0}' order by numkey asc\".format(name)\n",
    "    cur.execute(sql)\n",
    "    id_list = list(cur.fetchall())\n",
    "    \n",
    "    for id_ in id_list:\n",
    "        from_ = '{0}\\{1}.jpg'.format(folder_name_before, id_[0])\n",
    "        to_ = '{0}\\{1}'.format(folder_name, name)\n",
    "        shutil.move(from_, to_)"
   ]
  },
  {
   "cell_type": "code",
   "execution_count": null,
   "metadata": {},
   "outputs": [],
   "source": [
    "#for name in breed_labels: #강아지 종별로 sql에서 id 조회후 id명의 사진파일주소 확인과, 옮길 주소 확인\n",
    "    sql = \"select id from testset1 where breed='{0}' order by numkey asc\".format(name)\n",
    "    cur.execute(sql)\n",
    "    id_list = list(cur.fetchall())\n",
    "    \n",
    "    for id_ in id_list:\n",
    "        print('{0}\\\\{1}.jpg'.format(folder_name_before, id_[0]))\n",
    "        print('{0}\\{1}'.format(folder_name, name))"
   ]
  }
 ],
 "metadata": {
  "kernelspec": {
   "display_name": "Python 3",
   "language": "python",
   "name": "python3"
  },
  "language_info": {
   "codemirror_mode": {
    "name": "ipython",
    "version": 3
   },
   "file_extension": ".py",
   "mimetype": "text/x-python",
   "name": "python",
   "nbconvert_exporter": "python",
   "pygments_lexer": "ipython3",
   "version": "3.8.5"
  }
 },
 "nbformat": 4,
 "nbformat_minor": 4
}
